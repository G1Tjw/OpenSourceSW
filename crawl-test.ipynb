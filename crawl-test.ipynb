{
 "cells": [
  {
   "cell_type": "markdown",
   "metadata": {},
   "source": [
    "** song id, 제목, 가수, 가사 크롤링 **"
   ]
  },
  {
   "cell_type": "code",
   "execution_count": 10,
   "metadata": {},
   "outputs": [
    {
     "name": "stdout",
     "output_type": "stream",
     "text": [
      "CSV 파일이 저장되었습니다.\n"
     ]
    }
   ],
   "source": [
    "import requests\n",
    "from bs4 import BeautifulSoup\n",
    "import pandas as pd\n",
    "import time\n",
    "\n",
    "# 멜론 TOP 100 차트 페이지 URL\n",
    "url = 'https://www.melon.com/chart/index.htm'\n",
    "\n",
    "# 웹 페이지 요청\n",
    "headers = {'User-Agent': 'Mozilla/5.0'}\n",
    "response = requests.get(url, headers=headers)\n",
    "\n",
    "# BeautifulSoup 객체 생성\n",
    "soup = BeautifulSoup(response.text, 'html.parser')\n",
    "\n",
    "# 곡 ID, 제목, 아티스트 추출\n",
    "song_ids = []\n",
    "song_titles = []\n",
    "song_artists = []\n",
    "\n",
    "for song_tag in soup.find_all('tr', class_='lst50') + soup.find_all('tr', class_='lst100'):\n",
    "    song_id = song_tag.get('data-song-no')\n",
    "    if song_id:\n",
    "        title_tag = song_tag.find('div', class_='rank01').find('a')\n",
    "        artist_tag = song_tag.find('div', class_='rank02').find('a')\n",
    "        song_ids.append(song_id)\n",
    "        song_titles.append(title_tag.text)\n",
    "        song_artists.append(artist_tag.text)\n",
    "\n",
    "# 곡 가사 추출 함수\n",
    "def get_lyrics(song_id):\n",
    "    song_url = f'https://www.melon.com/song/detail.htm?songId={song_id}'\n",
    "    song_response = requests.get(song_url, headers=headers)\n",
    "    song_soup = BeautifulSoup(song_response.text, 'html.parser')\n",
    "    lyrics_tag = song_soup.find('div', class_='lyric')\n",
    "    if lyrics_tag:\n",
    "        return lyrics_tag.text.strip()\n",
    "    else:\n",
    "        return \"\"\n",
    "\n",
    "# 가사 추출 및 저장\n",
    "lyrics_list = []\n",
    "for song_id in song_ids:\n",
    "    lyrics = get_lyrics(song_id)\n",
    "    lyrics_list.append(lyrics)\n",
    "    time.sleep(1)  # 웹사이트에 부하를 주지 않기 위해 1초 대기\n",
    "\n",
    "# 데이터프레임 생성\n",
    "data = {'Song ID': song_ids, 'Title': song_titles, 'Artist': song_artists, 'Lyrics': lyrics_list}\n",
    "df = pd.DataFrame(data)\n",
    "\n",
    "# CSV 파일로 저장\n",
    "df.to_csv('melon_top_100_with_lyrics.csv', index=False, encoding='utf-8-sig')\n",
    "\n",
    "print(\"CSV 파일이 저장되었습니다.\")\n"
   ]
  },
  {
   "cell_type": "markdown",
   "metadata": {},
   "source": [
    "불용어 추가 버전(미완성)"
   ]
  },
  {
   "cell_type": "code",
   "execution_count": 15,
   "metadata": {},
   "outputs": [
    {
     "name": "stdout",
     "output_type": "stream",
     "text": [
      "CSV 파일이 저장되었습니다.\n"
     ]
    }
   ],
   "source": [
    "import requests\n",
    "from bs4 import BeautifulSoup\n",
    "import pandas as pd\n",
    "import time\n",
    "\n",
    "# 불용어 텍스트 파일에서 불용어 리스트 읽기\n",
    "def load_stopwords(filepath):\n",
    "    with open(filepath, 'r', encoding='utf-8') as file:\n",
    "        stopwords = file.read().splitlines()\n",
    "    return stopwords\n",
    "\n",
    "# 불용어 리스트 로드\n",
    "stopwords = load_stopwords('stopwords.txt')\n",
    "\n",
    "# 멜론 TOP 100 차트 페이지 URL\n",
    "url = 'https://www.melon.com/chart/index.htm'\n",
    "\n",
    "# 웹 페이지 요청\n",
    "headers = {'User-Agent': 'Mozilla/5.0'}\n",
    "response = requests.get(url, headers=headers)\n",
    "\n",
    "# BeautifulSoup 객체 생성\n",
    "soup = BeautifulSoup(response.text, 'html.parser')\n",
    "\n",
    "# 곡 ID, 제목, 아티스트 추출\n",
    "song_ids = []\n",
    "song_titles = []\n",
    "song_artists = []\n",
    "\n",
    "for song_tag in soup.find_all('tr', class_='lst50') + soup.find_all('tr', class_='lst100'):\n",
    "    song_id = song_tag.get('data-song-no')\n",
    "    if song_id:\n",
    "        title_tag = song_tag.find('div', class_='rank01').find('a')\n",
    "        artist_tag = song_tag.find('div', class_='rank02').find('a')\n",
    "        song_ids.append(song_id)\n",
    "        song_titles.append(title_tag.text)\n",
    "        song_artists.append(artist_tag.text)\n",
    "\n",
    "# 곡 가사 추출 함수\n",
    "def get_lyrics(song_id):\n",
    "    song_url = f'https://www.melon.com/song/detail.htm?songId={song_id}'\n",
    "    song_response = requests.get(song_url, headers=headers)\n",
    "    song_soup = BeautifulSoup(song_response.text, 'html.parser')\n",
    "    lyrics_tag = song_soup.find('div', class_='lyric')\n",
    "    if lyrics_tag:\n",
    "        return lyrics_tag.text.strip()\n",
    "    else:\n",
    "        return \"\"\n",
    "\n",
    "# 가사에서 불용어 제거 함수\n",
    "def remove_stopwords(text, stopwords):\n",
    "    words = text.split()\n",
    "    meaningful_words = [word for word in words if word not in stopwords]\n",
    "    return ' '.join(meaningful_words)\n",
    "\n",
    "# 가사 추출 및 불용어 제거\n",
    "lyrics_list = []\n",
    "for song_id in song_ids:\n",
    "    lyrics = get_lyrics(song_id)\n",
    "    clean_lyrics = remove_stopwords(lyrics, stopwords)\n",
    "    lyrics_list.append(clean_lyrics)\n",
    "    time.sleep(1)  # 웹사이트에 부하를 주지 않기 위해 1초 대기\n",
    "\n",
    "# 데이터프레임 생성\n",
    "data = {'Song ID': song_ids, 'Title': song_titles, 'Artist': song_artists, 'Lyrics': lyrics_list}\n",
    "df = pd.DataFrame(data)\n",
    "\n",
    "# CSV 파일로 저장\n",
    "df.to_csv('melon_top_100_with_clean_lyrics.csv', index=False, encoding='utf-8-sig')\n",
    "\n",
    "print(\"CSV 파일이 저장되었습니다.\")\n"
   ]
  }
 ],
 "metadata": {
  "kernelspec": {
   "display_name": "Python 3",
   "language": "python",
   "name": "python3"
  },
  "language_info": {
   "codemirror_mode": {
    "name": "ipython",
    "version": 3
   },
   "file_extension": ".py",
   "mimetype": "text/x-python",
   "name": "python",
   "nbconvert_exporter": "python",
   "pygments_lexer": "ipython3",
   "version": "3.12.3"
  }
 },
 "nbformat": 4,
 "nbformat_minor": 2
}
