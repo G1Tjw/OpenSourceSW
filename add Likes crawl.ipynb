{
 "cells": [
  {
   "cell_type": "markdown",
   "metadata": {},
   "source": [
    "* selenium 안쓰고 좋아요 크롤링 하려 했는데 안되길래 어쩔 수 없이 사용. \n",
    "* 문제 : 속도가 많이 느려짐.....약 5~6배?"
   ]
  },
  {
   "cell_type": "code",
   "execution_count": 3,
   "metadata": {},
   "outputs": [
    {
     "name": "stdout",
     "output_type": "stream",
     "text": [
      "CSV 파일이 저장되었습니다.\n"
     ]
    }
   ],
   "source": [
    "import time\n",
    "from selenium import webdriver\n",
    "from selenium.webdriver.common.by import By\n",
    "from selenium.webdriver.chrome.service import Service\n",
    "from webdriver_manager.chrome import ChromeDriverManager\n",
    "import pandas as pd\n",
    "from concurrent.futures import ThreadPoolExecutor\n",
    "\n",
    "# 멜론 TOP 100 차트 페이지 URL\n",
    "url = 'https://www.melon.com/chart/index.htm'\n",
    "\n",
    "# Selenium 웹 드라이버 설정\n",
    "options = webdriver.ChromeOptions()\n",
    "options.add_argument('--headless')  # 헤드리스 모드(브라우저 창을 열지 않음)\n",
    "options.add_argument('--no-sandbox')\n",
    "options.add_argument('--disable-dev-shm-usage')\n",
    "\n",
    "# 웹 드라이버 실행\n",
    "driver = webdriver.Chrome(service=Service(ChromeDriverManager().install()), options=options)\n",
    "driver.get(url)\n",
    "\n",
    "# 페이지 로드 대기\n",
    "time.sleep(3)\n",
    "\n",
    "# 곡 ID, 제목, 아티스트 추출\n",
    "song_ids = []\n",
    "song_titles = []\n",
    "song_artists = []\n",
    "\n",
    "for song_tag in driver.find_elements(By.CSS_SELECTOR, 'tr.lst50, tr.lst100'):\n",
    "    song_id = song_tag.get_attribute('data-song-no')\n",
    "    if song_id:\n",
    "        title_tag = song_tag.find_element(By.CSS_SELECTOR, 'div.rank01 a')\n",
    "        artist_tags = song_tag.find_elements(By.CSS_SELECTOR, 'div.rank02 a')\n",
    "        song_ids.append(song_id)\n",
    "        song_titles.append(title_tag.text)\n",
    "        song_artists.append(', '.join([artist.text for artist in artist_tags]))\n",
    "\n",
    "driver.quit()\n",
    "\n",
    "# 곡 가사 및 좋아요 수 추출 함수\n",
    "def get_song_details(song_id):\n",
    "    local_driver = webdriver.Chrome(service=Service(ChromeDriverManager().install()), options=options)\n",
    "    try:\n",
    "        song_url = f'https://www.melon.com/song/detail.htm?songId={song_id}'\n",
    "        local_driver.get(song_url)\n",
    "        time.sleep(1)  # 페이지 로드 대기\n",
    "        \n",
    "        # 가사 추출\n",
    "        lyrics_tag = local_driver.find_element(By.CSS_SELECTOR, 'div.lyric')\n",
    "        lyrics = lyrics_tag.text.replace(',', '') if lyrics_tag else \"No lyrics found\"\n",
    "\n",
    "        # 좋아요 수 추출\n",
    "        like_button = local_driver.find_element(By.CSS_SELECTOR, 'button.like')\n",
    "        like_tag = like_button.find_element(By.CSS_SELECTOR, 'span.cnt')\n",
    "        likes = like_tag.text.replace('총건수', '').strip().replace(',', '') if like_tag else '0'\n",
    "        \n",
    "        return song_id, lyrics, likes\n",
    "    except Exception as e:\n",
    "        print(f\"Error fetching details for song ID {song_id}: {e}\")\n",
    "        return song_id, \"No lyrics found\", \"0\"\n",
    "    finally:\n",
    "        local_driver.quit()\n",
    "\n",
    "# 병렬처리를 위해 ThreadPoolExecutor 사용\n",
    "with ThreadPoolExecutor(max_workers=10) as executor:  # 병렬 처리를 위한 스레드풀 생성, max_workers는 병렬화할 작업 수\n",
    "    results = list(executor.map(get_song_details, song_ids))\n",
    "\n",
    "# 결과 처리\n",
    "lyrics_dict = {song_id: lyrics for song_id, lyrics, _ in results}\n",
    "likes_dict = {song_id: likes for song_id, _, likes in results}\n",
    "lyrics_list = [lyrics_dict[song_id] for song_id in song_ids]\n",
    "likes_list = [likes_dict[song_id] for song_id in song_ids]\n",
    "\n",
    "# 데이터프레임 생성\n",
    "data = {'Song ID': song_ids, 'Title': song_titles, 'Artist': song_artists, 'Lyrics': lyrics_list, 'Likes': likes_list}\n",
    "df = pd.DataFrame(data)\n",
    "\n",
    "# CSV 파일로 저장\n",
    "df.to_csv('melon_top_100(add LIKES).csv', index=False, encoding='utf-8-sig')\n",
    "\n",
    "print(\"CSV 파일이 저장되었습니다.\")\n"
   ]
  }
 ],
 "metadata": {
  "kernelspec": {
   "display_name": "Python 3",
   "language": "python",
   "name": "python3"
  },
  "language_info": {
   "codemirror_mode": {
    "name": "ipython",
    "version": 3
   },
   "file_extension": ".py",
   "mimetype": "text/x-python",
   "name": "python",
   "nbconvert_exporter": "python",
   "pygments_lexer": "ipython3",
   "version": "3.12.3"
  }
 },
 "nbformat": 4,
 "nbformat_minor": 2
}
