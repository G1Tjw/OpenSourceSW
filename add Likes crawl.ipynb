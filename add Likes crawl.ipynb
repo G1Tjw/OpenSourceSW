{
 "cells": [
  {
   "cell_type": "markdown",
   "metadata": {},
   "source": [
    "* selenium 안쓰고 좋아요 크롤링 하려 했는데 안되길래 어쩔 수 없이 사용. \n",
    "* 문제 : 속도가 많이 느려짐.....약 5~6배?"
   ]
  },
  {
   "cell_type": "code",
   "execution_count": 3,
   "metadata": {},
   "outputs": [
    {
     "name": "stdout",
     "output_type": "stream",
     "text": [
      "CSV 파일이 저장되었습니다.\n"
     ]
    }
   ],
   "source": [
    "import time\n",
    "from selenium import webdriver\n",
    "from selenium.webdriver.common.by import By\n",
    "from selenium.webdriver.chrome.service import Service\n",
    "from webdriver_manager.chrome import ChromeDriverManager\n",
    "import pandas as pd\n",
    "from concurrent.futures import ThreadPoolExecutor\n",
    "\n",
    "# 멜론 TOP 100 차트 페이지 URL\n",
    "url = 'https://www.melon.com/chart/index.htm'\n",
    "\n",
    "# Selenium 웹 드라이버 설정\n",
    "options = webdriver.ChromeOptions()\n",
    "options.add_argument('--headless')  # 헤드리스 모드(브라우저 창을 열지 않음)\n",
    "options.add_argument('--no-sandbox')\n",
    "options.add_argument('--disable-dev-shm-usage')\n",
    "\n",
    "# 웹 드라이버 실행\n",
    "driver = webdriver.Chrome(service=Service(ChromeDriverManager().install()), options=options)\n",
    "driver.get(url)\n",
    "\n",
    "# 페이지 로드 대기\n",
    "time.sleep(3)\n",
    "\n",
    "# 곡 ID, 제목, 아티스트 추출\n",
    "song_ids = []\n",
    "song_titles = []\n",
    "song_artists = []\n",
    "\n",
    "for song_tag in driver.find_elements(By.CSS_SELECTOR, 'tr.lst50, tr.lst100'):\n",
    "    song_id = song_tag.get_attribute('data-song-no')\n",
    "    if song_id:\n",
    "        title_tag = song_tag.find_element(By.CSS_SELECTOR, 'div.rank01 a')\n",
    "        artist_tags = song_tag.find_elements(By.CSS_SELECTOR, 'div.rank02 a')\n",
    "        song_ids.append(song_id)\n",
    "        song_titles.append(title_tag.text)\n",
    "        song_artists.append(', '.join([artist.text for artist in artist_tags]))\n",
    "\n",
    "driver.quit()\n",
    "\n",
    "# 곡 가사 및 좋아요 수 추출 함수\n",
    "def get_song_details(song_id):\n",
    "    local_driver = webdriver.Chrome(service=Service(ChromeDriverManager().install()), options=options)\n",
    "    try:\n",
    "        song_url = f'https://www.melon.com/song/detail.htm?songId={song_id}'\n",
    "        local_driver.get(song_url)\n",
    "        time.sleep(1)  # 페이지 로드 대기\n",
    "        \n",
    "        # 가사 추출\n",
    "        lyrics_tag = local_driver.find_element(By.CSS_SELECTOR, 'div.lyric')\n",
    "        lyrics = lyrics_tag.text.replace(',', '') if lyrics_tag else \"No lyrics found\"\n",
    "\n",
    "        # 좋아요 수 추출\n",
    "        like_button = local_driver.find_element(By.CSS_SELECTOR, 'button.like')\n",
    "        like_tag = like_button.find_element(By.CSS_SELECTOR, 'span.cnt')\n",
    "        likes = like_tag.text.replace('총건수', '').strip().replace(',', '') if like_tag else '0'\n",
    "        \n",
    "        return song_id, lyrics, likes\n",
    "    except Exception as e:\n",
    "        print(f\"Error fetching details for song ID {song_id}: {e}\")\n",
    "        return song_id, \"No lyrics found\", \"0\"\n",
    "    finally:\n",
    "        local_driver.quit()\n",
    "\n",
    "# 병렬처리를 위해 ThreadPoolExecutor 사용\n",
    "with ThreadPoolExecutor(max_workers=10) as executor:  # 병렬 처리를 위한 스레드풀 생성, max_workers는 병렬화할 작업 수\n",
    "    results = list(executor.map(get_song_details, song_ids))\n",
    "\n",
    "# 결과 처리\n",
    "lyrics_dict = {song_id: lyrics for song_id, lyrics, _ in results}\n",
    "likes_dict = {song_id: likes for song_id, _, likes in results}\n",
    "lyrics_list = [lyrics_dict[song_id] for song_id in song_ids]\n",
    "likes_list = [likes_dict[song_id] for song_id in song_ids]\n",
    "\n",
    "# 데이터프레임 생성\n",
    "data = {'Song ID': song_ids, 'Title': song_titles, 'Artist': song_artists, 'Lyrics': lyrics_list, 'Likes': likes_list}\n",
    "df = pd.DataFrame(data)\n",
    "\n",
    "# CSV 파일로 저장\n",
    "df.to_csv('melon_top_100(add LIKES).csv', index=False, encoding='utf-8-sig')\n",
    "\n",
    "print(\"CSV 파일이 저장되었습니다.\")\n"
   ]
  },
  {
   "cell_type": "markdown",
   "metadata": {},
   "source": [
    "## 좋아요 순 출력"
   ]
  },
  {
   "cell_type": "code",
   "execution_count": 15,
   "metadata": {},
   "outputs": [
    {
     "name": "stdout",
     "output_type": "stream",
     "text": [
      "                                    Title         Artist   Likes\n",
      "0                                      봄날         방탄소년단   563385\n",
      "1                                Dynamite         방탄소년단   464049\n",
      "2   모든 날, 모든 순간 (Every day, Every Moment)            폴킴   441490\n",
      "3               어떻게 이별까지 사랑하겠어, 널 사랑하는 거지     AKMU (악뮤)   439932\n",
      "4                            주저하는 연인들을 위해           잔나비   421776\n",
      "..                                    ...            ...     ...\n",
      "95                        Merry PLLIstmas         PLAVE    22949\n",
      "96                                 슬픈 초대장      순순희 (지환)    21814\n",
      "97                                  꿈결같아서  민니 ((여자)아이들)    20554\n",
      "98                      청혼하지 않을 이유를 못 찾았어           이무진    19668\n",
      "99                                   그랬나봐    유회승 (엔플라잉)    18965\n",
      "\n",
      "[100 rows x 3 columns]\n"
     ]
    }
   ],
   "source": [
    "import pandas as pd\n",
    "\n",
    "# CSV 파일 경로\n",
    "file_path = 'melon_top_100(add LIKES).csv'\n",
    "\n",
    "# CSV 파일 로드\n",
    "data = pd.read_csv(file_path)\n",
    "data['Artist'] = data['Artist'].str.replace(',', '', regex=False)\n",
    "\n",
    "# Likes 기준으로 내림차순 정렬\n",
    "sorted_data = data.sort_values(by='Likes', ascending=False)\n",
    "\n",
    "# 제목, 가수, 좋아요 수 컬럼만 선택\n",
    "sorted_titles_artists_likes = sorted_data[['Title', 'Artist', 'Likes']]\n",
    "\n",
    "# 인덱스 재설정\n",
    "sorted_titles_artists_likes.reset_index(drop=True, inplace=True)\n",
    "\n",
    "# 상위 100개 출력\n",
    "print(sorted_titles_artists_likes.head(100))\n"
   ]
  },
  {
   "cell_type": "markdown",
   "metadata": {},
   "source": [
    "## 가수 당 몇 곡 있는지"
   ]
  },
  {
   "cell_type": "code",
   "execution_count": 12,
   "metadata": {},
   "outputs": [
    {
     "name": "stdout",
     "output_type": "stream",
     "text": [
      "Artist\n",
      "임영웅                         14\n",
      "NewJeans                     8\n",
      "PLAVE                        6\n",
      "IVE (아이브)                    5\n",
      "RIIZE                        4\n",
      "aespa                        4\n",
      "세븐틴 (SEVENTEEN)              3\n",
      "DAY6 (데이식스)                  3\n",
      "LE SSERAFIM (르세라핌)           3\n",
      "아일릿(ILLIT)                   2\n",
      "방탄소년단                        2\n",
      "(여자)아이들                      2\n",
      "태연 (TAEYEON)                 2\n",
      "이무진                          2\n",
      "아이유                          2\n",
      "이클립스 (ECLIPSE)               2\n",
      "AKMU (악뮤)                    2\n",
      "잔나비                          1\n",
      "우디 (Woody)                   1\n",
      "VIVIZ (비비지)                  1\n",
      "부석순 (SEVENTEEN)              1\n",
      "민니 ((여자)아이들)                 1\n",
      "폴킴                           1\n",
      "로이킴                          1\n",
      "윤하 (YOUNHA)                  1\n",
      "김민석                          1\n",
      "임한별                          1\n",
      "경서예지 전건호                     1\n",
      "Charlie Puth                 1\n",
      "순순희(기태)                      1\n",
      "DK(디셈버)                      1\n",
      "성시경                          1\n",
      "순순희 (지환)                     1\n",
      "멜로망스                         1\n",
      "범진                           1\n",
      "지코 (ZICO)                    1\n",
      "QWER                         1\n",
      "Crush                        1\n",
      "TWS (투어스)                    1\n",
      "이창섭                          1\n",
      "BABYMONSTER                  1\n",
      "비비 (BIBI)                    1\n",
      "임재현                          1\n",
      "너드커넥션 (Nerd Connection)      1\n",
      "정국                           1\n",
      "10CM                         1\n",
      "tripleS (트리플에스)              1\n",
      "유회승 (엔플라잉)                   1\n",
      "박재정                          1\n",
      "KISS OF LIFE                 1\n",
      "제니 (JENNIE)                  1\n",
      "Name: count, dtype: int64\n"
     ]
    }
   ],
   "source": [
    "import pandas as pd\n",
    "\n",
    "# CSV 파일 경로\n",
    "file_path = 'melon_top_100(add LIKES).csv'\n",
    "\n",
    "# CSV 파일 로드\n",
    "data = pd.read_csv(file_path)\n",
    "\n",
    "# 가수 이름에서 ','를 제거\n",
    "data['Artist'] = data['Artist'].str.replace(',', '', regex=False)\n",
    "\n",
    "# 각 가수별 곡 수를 계산\n",
    "artist_song_counts = data['Artist'].value_counts()\n",
    "\n",
    "# 결과 출력\n",
    "print(artist_song_counts)\n"
   ]
  }
 ],
 "metadata": {
  "kernelspec": {
   "display_name": "Python 3",
   "language": "python",
   "name": "python3"
  },
  "language_info": {
   "codemirror_mode": {
    "name": "ipython",
    "version": 3
   },
   "file_extension": ".py",
   "mimetype": "text/x-python",
   "name": "python",
   "nbconvert_exporter": "python",
   "pygments_lexer": "ipython3",
   "version": "3.12.3"
  }
 },
 "nbformat": 4,
 "nbformat_minor": 2
}
