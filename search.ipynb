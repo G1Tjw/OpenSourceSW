{
 "cells": [
  {
   "cell_type": "code",
   "execution_count": 17,
   "metadata": {},
   "outputs": [
    {
     "name": "stdout",
     "output_type": "stream",
     "text": [
      "Songs from 2015 containing the keyword '사랑':\n",
      "Title: 같은 시간 속의 너, Artist: 나얼\n",
      "Title: 꺼내 먹어요, Artist: Zion.T\n",
      "Title: 이럴거면 그러지말지 (Feat. Young K), Artist: 백아연\n",
      "Title: 위잉위잉, Artist: 혁오 (HYUKOH)\n",
      "Title: LOSER, Artist: BIGBANG (빅뱅)\n",
      "Title: BAE BAE, Artist: BIGBANG (빅뱅)\n",
      "Title: 또 다시 사랑, Artist: 임창정\n",
      "Title: 다른 남자 말고 너, Artist: 미쓰에이\n",
      "Title: 두사랑 (Feat. 매드클라운), Artist: 다비치\n",
      "Title: 그 남잔 말야, Artist: 엠씨더맥스 (M.C the MAX)\n",
      "Title: 목소리, Artist: 노을\n",
      "Title: 사월의 눈, Artist: 허각\n",
      "Title: 취향저격, Artist: iKON\n",
      "Title: 야생화, Artist: 박효신\n",
      "Title: 오늘부터 우리는 (Me Gustas Tu), Artist: 여자친구 (GFRIEND)\n",
      "Title: 화 (Feat. 진실 Of Mad Soul Child) (Fire), Artist: 매드클라운\n",
      "Title: IF YOU, Artist: BIGBANG (빅뱅)\n",
      "Title: 바람이나 좀 쐐 (Feat. 우혜미), Artist: 개리\n",
      "Title: 금요일에 만나요 (Feat. 장이정 Of HISTORY), Artist: 아이유\n",
      "Title: 우리 사랑하지 말아요, Artist: BIGBANG (빅뱅)\n",
      "Title: 또 운다 또, Artist: 다비치\n",
      "Title: 바라보기, Artist: 엠씨더맥스 (M.C the MAX)\n",
      "Title: 사랑 범벅 (Feat. 챈슬러 of the channels), Artist: MC몽\n",
      "Title: 광화문에서 (At Gwanghwamun), Artist: 규현 (KYUHYUN)\n"
     ]
    }
   ],
   "source": [
    "import pandas as pd\n",
    "import os\n",
    "\n",
    "def search_songs_by_keyword_and_year(directory, keyword, year):\n",
    "    # 연도에 해당하는 파일 이름 생성\n",
    "    csv_file = os.path.join(directory, f\"melon_chart_{year}.csv\")\n",
    "    \n",
    "    # 파일이 존재하는지 확인\n",
    "    if not os.path.exists(csv_file):\n",
    "        print(f\"No data available for the year {year}.\")\n",
    "        return\n",
    "\n",
    "    # CSV 파일을 DataFrame으로 읽기\n",
    "    df = pd.read_csv(csv_file)\n",
    "    \n",
    "    # 주어진 키워드를 포함하는 노래 필터링\n",
    "    filtered_df = df[df['lyric'].str.contains(keyword, case=False, na=False)]\n",
    "    \n",
    "    # 결과 출력\n",
    "    if not filtered_df.empty:\n",
    "        print(f\"Songs from {year} containing the keyword '{keyword}':\")\n",
    "        for index, row in filtered_df.iterrows():\n",
    "            print(f\"Title: {row['title']}, Artist: {row['singer']}\")\n",
    "    else:\n",
    "        print(f\"No songs from {year} contain the keyword '{keyword}'.\")\n",
    "\n",
    "\n",
    "directory = './melon_charts'  # CSV 파일들이 저장된 디렉토리\n",
    "\n",
    "# !!!!!수정사항!!!!!  키워드랑 연도 tkinter에서 입력받아야함.\n",
    "keyword = '사랑'  # 검색할 키워드     \n",
    "year = 2015  # 검색할 연도\n",
    "\n",
    "search_songs_by_keyword_and_year(directory, keyword, year)"
   ]
  }
 ],
 "metadata": {
  "kernelspec": {
   "display_name": "Python 3",
   "language": "python",
   "name": "python3"
  },
  "language_info": {
   "codemirror_mode": {
    "name": "ipython",
    "version": 3
   },
   "file_extension": ".py",
   "mimetype": "text/x-python",
   "name": "python",
   "nbconvert_exporter": "python",
   "pygments_lexer": "ipython3",
   "version": "3.12.3"
  }
 },
 "nbformat": 4,
 "nbformat_minor": 2
}
